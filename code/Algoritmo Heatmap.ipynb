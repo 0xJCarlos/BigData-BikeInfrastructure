{
 "cells": [
  {
   "cell_type": "code",
   "execution_count": 1,
   "id": "12ffa702",
   "metadata": {
    "scrolled": true
   },
   "outputs": [],
   "source": [
    "#1. Importar Librerias necesarias\n",
    "import pandas as pd\n",
    "import folium #Folium es una libreria para hacer mapas basandonos en datos\n",
    "from folium.plugins import MarkerCluster #MarkerCluster es un tipo de mapa que agrupa según ubicación"
   ]
  },
  {
   "cell_type": "code",
   "execution_count": 2,
   "id": "80f77323",
   "metadata": {},
   "outputs": [],
   "source": [
    "#2. Leemos los datos de los accidentes de bicicletas\n",
    "data = pd.read_csv('mapa_siniestralidad_bicicletas.csv')"
   ]
  },
  {
   "cell_type": "code",
   "execution_count": 3,
   "id": "f55e45b4",
   "metadata": {},
   "outputs": [],
   "source": [
    "#3. Agrupamos las ubicaciones donde se presentan accidentes\n",
    "locations = data.groupby(['y','x']).size().reset_index(name=\"accidentes\")"
   ]
  },
  {
   "cell_type": "code",
   "execution_count": 4,
   "id": "fdb0bf68",
   "metadata": {},
   "outputs": [],
   "source": [
    "#4. Armamos y guardamos el mapa\n",
    "mapa = folium.Map(location=[locations['y'].mean(), locations['x'].mean()], zoom_start=12)\n",
    "\n",
    "marker_cluster = MarkerCluster().add_to(mapa)\n",
    "\n",
    "for i, row in locations.iterrows():\n",
    "    folium.Marker(location=[row['y'], row['x']],\n",
    "                 popup=row['accidentes'],\n",
    "                 icon=None).add_to(marker_cluster)\n",
    "    \n",
    "mapa.save('mapa_accidentes.html')"
   ]
  },
  {
   "cell_type": "code",
   "execution_count": null,
   "id": "7e44a6bc",
   "metadata": {},
   "outputs": [],
   "source": []
  }
 ],
 "metadata": {
  "kernelspec": {
   "display_name": "Python 3 (ipykernel)",
   "language": "python",
   "name": "python3"
  },
  "language_info": {
   "codemirror_mode": {
    "name": "ipython",
    "version": 3
   },
   "file_extension": ".py",
   "mimetype": "text/x-python",
   "name": "python",
   "nbconvert_exporter": "python",
   "pygments_lexer": "ipython3",
   "version": "3.9.12"
  }
 },
 "nbformat": 4,
 "nbformat_minor": 5
}
