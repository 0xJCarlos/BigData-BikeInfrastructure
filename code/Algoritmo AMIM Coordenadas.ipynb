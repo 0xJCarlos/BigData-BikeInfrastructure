{
 "cells": [
  {
   "cell_type": "code",
   "execution_count": 1,
   "id": "24334717",
   "metadata": {
    "scrolled": true
   },
   "outputs": [],
   "source": [
    "import pandas as pd\n",
    "import requests\n",
    "from IPython.display import clear_output"
   ]
  },
  {
   "cell_type": "code",
   "execution_count": 2,
   "id": "3cf397a8",
   "metadata": {},
   "outputs": [],
   "source": [
    "BING_MAPS_KEY = 'AhZT4W_-5WNXkhEi82yH3Pg2VMpFqgxPCMIWWjz9TXK5hSAoguaXRQuKEAC5iETi'"
   ]
  },
  {
   "cell_type": "code",
   "execution_count": 9,
   "id": "63065718",
   "metadata": {},
   "outputs": [],
   "source": [
    "def get_coordinates(address):\n",
    "    url = f'http://dev.virtualearth.net/REST/v1/Locations?countryRegion=US&addressLine={address}&key={BING_MAPS_KEY}'\n",
    "    response = requests.get(url)\n",
    "    data = response.json()\n",
    "    coordinates = data['resourceSets'][0]['resources'][0]['point']['coordinates']\n",
    "    print(f\"Processing index {get_coordinates.counter}: {coordinates} out of 6834\")\n",
    "    get_coordinates.counter += 1\n",
    "    clear_output(wait=True)\n",
    "    return coordinates\n",
    "get_coordinates.counter = 1"
   ]
  },
  {
   "cell_type": "code",
   "execution_count": 10,
   "id": "94a081b9",
   "metadata": {},
   "outputs": [],
   "source": [
    "df = pd.read_excel(\"../data/modified_data_CLEAN.xlsx\")"
   ]
  },
  {
   "cell_type": "code",
   "execution_count": 11,
   "id": "822b31be",
   "metadata": {},
   "outputs": [],
   "source": [
    "df.fillna('',inplace=True)"
   ]
  },
  {
   "cell_type": "code",
   "execution_count": 12,
   "id": "0622c14a",
   "metadata": {},
   "outputs": [],
   "source": [
    "coordenadas = pd.DataFrame()"
   ]
  },
  {
   "cell_type": "code",
   "execution_count": 13,
   "id": "62b38b59",
   "metadata": {},
   "outputs": [],
   "source": [
    "coordenadas['direccion'] = df.apply(lambda row: row['intersection'] + ' y ' + row['intersection2'] + ', ' + row['municipality'] + ', Jalisco, México', axis=1)"
   ]
  },
  {
   "cell_type": "code",
   "execution_count": 14,
   "id": "ad58cb42",
   "metadata": {},
   "outputs": [
    {
     "name": "stdout",
     "output_type": "stream",
     "text": [
      "Processing index 6834: [20.6870161, -103.308766] out of 6834\n"
     ]
    }
   ],
   "source": [
    "coordenadas[['latitude', 'longitude']] = coordenadas['direccion'].apply(get_coordinates).apply(pd.Series)"
   ]
  },
  {
   "cell_type": "code",
   "execution_count": 17,
   "id": "8f9f26f8",
   "metadata": {},
   "outputs": [],
   "source": [
    "coordenadas.to_excel(\"../data/coordenadas_semaforos_amim.xlsx\")"
   ]
  },
  {
   "cell_type": "code",
   "execution_count": null,
   "id": "a66b2414",
   "metadata": {},
   "outputs": [],
   "source": []
  }
 ],
 "metadata": {
  "kernelspec": {
   "display_name": "Python 3 (ipykernel)",
   "language": "python",
   "name": "python3"
  },
  "language_info": {
   "codemirror_mode": {
    "name": "ipython",
    "version": 3
   },
   "file_extension": ".py",
   "mimetype": "text/x-python",
   "name": "python",
   "nbconvert_exporter": "python",
   "pygments_lexer": "ipython3",
   "version": "3.9.12"
  }
 },
 "nbformat": 4,
 "nbformat_minor": 5
}
