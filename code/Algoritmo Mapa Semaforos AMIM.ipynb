{
 "cells": [
  {
   "cell_type": "code",
   "execution_count": 4,
   "id": "642aa1fa",
   "metadata": {},
   "outputs": [],
   "source": [
    "import pandas as pd\n",
    "import folium\n",
    "from folium.plugins import MarkerCluster"
   ]
  },
  {
   "cell_type": "code",
   "execution_count": 5,
   "id": "1ba76ad4",
   "metadata": {},
   "outputs": [],
   "source": [
    "data = pd.read_excel('../data/coordenadas_semaforos_amim.xlsx')"
   ]
  },
  {
   "cell_type": "code",
   "execution_count": 8,
   "id": "0dbf41f9",
   "metadata": {},
   "outputs": [],
   "source": [
    "locations = data.groupby(['latitude','longitude']).size().reset_index(name=\"Reporte de Semaforos\")"
   ]
  },
  {
   "cell_type": "code",
   "execution_count": 10,
   "id": "23708d4c",
   "metadata": {},
   "outputs": [],
   "source": [
    "mapa = folium.Map(location=[locations['latitude'].mean(), locations['longitude'].mean()], zoom_start=12)\n",
    "\n",
    "marker_cluster = MarkerCluster().add_to(mapa)\n",
    "\n",
    "for i, row in locations.iterrows():\n",
    "    folium.Marker(location=[row['latitude'], row['longitude']],\n",
    "                 popup=row['Reporte de Semaforos'],\n",
    "                 icon=None).add_to(marker_cluster)\n",
    "    \n",
    "mapa.save('../data/mapa_reportes_semaforos.html')"
   ]
  },
  {
   "cell_type": "code",
   "execution_count": null,
   "id": "00a44763",
   "metadata": {},
   "outputs": [],
   "source": []
  }
 ],
 "metadata": {
  "kernelspec": {
   "display_name": "Python 3 (ipykernel)",
   "language": "python",
   "name": "python3"
  },
  "language_info": {
   "codemirror_mode": {
    "name": "ipython",
    "version": 3
   },
   "file_extension": ".py",
   "mimetype": "text/x-python",
   "name": "python",
   "nbconvert_exporter": "python",
   "pygments_lexer": "ipython3",
   "version": "3.9.12"
  }
 },
 "nbformat": 4,
 "nbformat_minor": 5
}
