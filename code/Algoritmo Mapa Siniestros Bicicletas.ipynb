{
 "cells": [
  {
   "cell_type": "code",
   "execution_count": 1,
   "id": "12ffa702",
   "metadata": {
    "scrolled": true
   },
   "outputs": [],
   "source": [
    "#1. Importar Librerias necesarias\n",
    "import pandas as pd\n",
    "import folium #Folium es una libreria para hacer mapas basandonos en datos\n",
    "from folium.plugins import MarkerCluster #MarkerCluster es un tipo de mapa que agrupa según ubicación"
   ]
  },
  {
   "cell_type": "code",
   "execution_count": 3,
   "id": "80f77323",
   "metadata": {},
   "outputs": [],
   "source": [
    "#2. Leemos los datos de los accidentes de bicicletas\n",
    "data = pd.read_csv('../data/mapa_siniestralidad_bicicletas.csv')"
   ]
  },
  {
   "cell_type": "code",
   "execution_count": 4,
   "id": "f55e45b4",
   "metadata": {},
   "outputs": [],
   "source": [
    "#3. Agrupamos las ubicaciones donde se presentan accidentes\n",
    "locations = data.groupby(['y','x']).size().reset_index(name=\"accidentes\")"
   ]
  },
  {
   "cell_type": "code",
   "execution_count": 5,
   "id": "fdb0bf68",
   "metadata": {},
   "outputs": [
    {
     "ename": "FileNotFoundError",
     "evalue": "[Errno 2] No such file or directory: '../maps/mapa_accidentes.html'",
     "output_type": "error",
     "traceback": [
      "\u001b[1;31m---------------------------------------------------------------------------\u001b[0m",
      "\u001b[1;31mFileNotFoundError\u001b[0m                         Traceback (most recent call last)",
      "Input \u001b[1;32mIn [5]\u001b[0m, in \u001b[0;36m<cell line: 11>\u001b[1;34m()\u001b[0m\n\u001b[0;32m      6\u001b[0m \u001b[38;5;28;01mfor\u001b[39;00m i, row \u001b[38;5;129;01min\u001b[39;00m locations\u001b[38;5;241m.\u001b[39miterrows():\n\u001b[0;32m      7\u001b[0m     folium\u001b[38;5;241m.\u001b[39mMarker(location\u001b[38;5;241m=\u001b[39m[row[\u001b[38;5;124m'\u001b[39m\u001b[38;5;124my\u001b[39m\u001b[38;5;124m'\u001b[39m], row[\u001b[38;5;124m'\u001b[39m\u001b[38;5;124mx\u001b[39m\u001b[38;5;124m'\u001b[39m]],\n\u001b[0;32m      8\u001b[0m                  popup\u001b[38;5;241m=\u001b[39mrow[\u001b[38;5;124m'\u001b[39m\u001b[38;5;124maccidentes\u001b[39m\u001b[38;5;124m'\u001b[39m],\n\u001b[0;32m      9\u001b[0m                  icon\u001b[38;5;241m=\u001b[39m\u001b[38;5;28;01mNone\u001b[39;00m)\u001b[38;5;241m.\u001b[39madd_to(marker_cluster)\n\u001b[1;32m---> 11\u001b[0m \u001b[43mmapa\u001b[49m\u001b[38;5;241;43m.\u001b[39;49m\u001b[43msave\u001b[49m\u001b[43m(\u001b[49m\u001b[38;5;124;43m'\u001b[39;49m\u001b[38;5;124;43m../maps/mapa_accidentes.html\u001b[39;49m\u001b[38;5;124;43m'\u001b[39;49m\u001b[43m)\u001b[49m\n",
      "File \u001b[1;32m~\\anaconda3\\lib\\site-packages\\branca\\element.py:179\u001b[0m, in \u001b[0;36mElement.save\u001b[1;34m(self, outfile, close_file, **kwargs)\u001b[0m\n\u001b[0;32m    169\u001b[0m \u001b[38;5;124;03m\"\"\"Saves an Element into a file.\u001b[39;00m\n\u001b[0;32m    170\u001b[0m \n\u001b[0;32m    171\u001b[0m \u001b[38;5;124;03mParameters\u001b[39;00m\n\u001b[1;32m   (...)\u001b[0m\n\u001b[0;32m    176\u001b[0m \u001b[38;5;124;03m    Whether the file has to be closed after write.\u001b[39;00m\n\u001b[0;32m    177\u001b[0m \u001b[38;5;124;03m\"\"\"\u001b[39;00m\n\u001b[0;32m    178\u001b[0m \u001b[38;5;28;01mif\u001b[39;00m \u001b[38;5;28misinstance\u001b[39m(outfile, (\u001b[38;5;28mstr\u001b[39m, \u001b[38;5;28mbytes\u001b[39m, Path)):\n\u001b[1;32m--> 179\u001b[0m     fid \u001b[38;5;241m=\u001b[39m \u001b[38;5;28;43mopen\u001b[39;49m\u001b[43m(\u001b[49m\u001b[43moutfile\u001b[49m\u001b[43m,\u001b[49m\u001b[43m \u001b[49m\u001b[38;5;124;43m'\u001b[39;49m\u001b[38;5;124;43mwb\u001b[39;49m\u001b[38;5;124;43m'\u001b[39;49m\u001b[43m)\u001b[49m\n\u001b[0;32m    180\u001b[0m \u001b[38;5;28;01melse\u001b[39;00m:\n\u001b[0;32m    181\u001b[0m     fid \u001b[38;5;241m=\u001b[39m outfile\n",
      "\u001b[1;31mFileNotFoundError\u001b[0m: [Errno 2] No such file or directory: '../maps/mapa_accidentes.html'"
     ]
    }
   ],
   "source": [
    "#4. Armamos y guardamos el mapa\n",
    "mapa = folium.Map(location=[locations['y'].mean(), locations['x'].mean()], zoom_start=12)\n",
    "\n",
    "marker_cluster = MarkerCluster().add_to(mapa)\n",
    "\n",
    "for i, row in locations.iterrows():\n",
    "    folium.Marker(location=[row['y'], row['x']],\n",
    "                 popup=row['accidentes'],\n",
    "                 icon=None).add_to(marker_cluster)\n",
    "    \n",
    "mapa.save('../maps/mapa_accidentes.html')"
   ]
  },
  {
   "cell_type": "code",
   "execution_count": null,
   "id": "7e44a6bc",
   "metadata": {},
   "outputs": [],
   "source": []
  }
 ],
 "metadata": {
  "kernelspec": {
   "display_name": "Python 3 (ipykernel)",
   "language": "python",
   "name": "python3"
  },
  "language_info": {
   "codemirror_mode": {
    "name": "ipython",
    "version": 3
   },
   "file_extension": ".py",
   "mimetype": "text/x-python",
   "name": "python",
   "nbconvert_exporter": "python",
   "pygments_lexer": "ipython3",
   "version": "3.9.12"
  }
 },
 "nbformat": 4,
 "nbformat_minor": 5
}
