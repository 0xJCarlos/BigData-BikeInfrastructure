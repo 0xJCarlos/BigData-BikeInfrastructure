{
 "cells": [
  {
   "cell_type": "code",
   "execution_count": 1,
   "id": "077f62ae",
   "metadata": {},
   "outputs": [],
   "source": [
    "import pandas as pd\n",
    "import re"
   ]
  },
  {
   "cell_type": "code",
   "execution_count": 11,
   "id": "81a60dae",
   "metadata": {},
   "outputs": [],
   "source": [
    "df =pd.read_csv(\"DATOS1.csv\")"
   ]
  },
  {
   "cell_type": "code",
   "execution_count": 13,
   "id": "3ef2ee4f",
   "metadata": {},
   "outputs": [],
   "source": [
    "#LIMPIEZA MANUAL\n",
    "unique_streets = pd.unique(df[['intersection', 'intersection2']].values.ravel('K'))\n",
    "\n",
    "df_excel = pd.DataFrame({'streets': unique_streets})\n",
    "df_excel['streets_cleaned'] = df_excel['streets']\n",
    "writer = pd.ExcelWriter('unique_streets.xlsx', engine='xlsxwriter')\n",
    "df_excel.to_excel(writer, index=False)\n",
    "writer.save()"
   ]
  },
  {
   "cell_type": "code",
   "execution_count": 14,
   "id": "672af99b",
   "metadata": {},
   "outputs": [],
   "source": [
    "#reemplazo\n",
    "excel_df = pd.read_excel('unique_streets_clean.xlsx')\n",
    "cleaned_streets = excel_df['streets_cleaned'].tolist()"
   ]
  },
  {
   "cell_type": "code",
   "execution_count": 16,
   "id": "bfabe9f2",
   "metadata": {},
   "outputs": [],
   "source": [
    "street_dict = dict(zip(excel_df['streets'], cleaned_streets))"
   ]
  },
  {
   "cell_type": "code",
   "execution_count": 18,
   "id": "8b939b34",
   "metadata": {},
   "outputs": [],
   "source": [
    "df['intersection'] = df['intersection'].replace(street_dict)\n",
    "df['intersection2'] = df['intersection2'].replace(street_dict)"
   ]
  },
  {
   "cell_type": "code",
   "execution_count": 21,
   "id": "91fc06f6",
   "metadata": {},
   "outputs": [],
   "source": [
    "df.to_excel('modified_data_CLEAN.xlsx', index=False)"
   ]
  },
  {
   "cell_type": "code",
   "execution_count": null,
   "id": "3550fca2",
   "metadata": {},
   "outputs": [],
   "source": []
  }
 ],
 "metadata": {
  "kernelspec": {
   "display_name": "Python 3 (ipykernel)",
   "language": "python",
   "name": "python3"
  },
  "language_info": {
   "codemirror_mode": {
    "name": "ipython",
    "version": 3
   },
   "file_extension": ".py",
   "mimetype": "text/x-python",
   "name": "python",
   "nbconvert_exporter": "python",
   "pygments_lexer": "ipython3",
   "version": "3.9.12"
  }
 },
 "nbformat": 4,
 "nbformat_minor": 5
}
